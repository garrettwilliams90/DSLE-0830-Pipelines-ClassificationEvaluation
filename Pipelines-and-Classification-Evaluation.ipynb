{
 "cells": [
  {
   "cell_type": "markdown",
   "metadata": {},
   "source": [
    "# Exploring Pipelines and Evaluating Classification Models"
   ]
  },
  {
   "cell_type": "markdown",
   "metadata": {},
   "source": [
    "## Why Pipeline?\n",
    "\n",
    "Pipelines can keep our code neat and clean all the way from gathering & cleaning our data, to creating models & fine-tuning them!\n",
    "\n",
    "**Advantages**: \n",
    "- Reduces complexity\n",
    "- Convenient \n",
    "- Flexible \n",
    "- Can help prevent mistakes (like data leakage between train and test set) "
   ]
  },
  {
   "cell_type": "markdown",
   "metadata": {},
   "source": [
    "Easily integrate transformers and estimators, plus cross validation!\n",
    "\n",
    "<img src=\"images/grid_search_cross_validation.png\" alt=\"cross validation image from sklearn's documentation\" width=500>\n",
    "\n",
    "\n"
   ]
  },
  {
   "cell_type": "code",
   "execution_count": 1,
   "metadata": {},
   "outputs": [],
   "source": [
    "# Imports\n",
    "import pandas as pd\n",
    "import numpy as np\n",
    "\n",
    "import matplotlib.pyplot as plt\n",
    "\n",
    "from sklearn.pipeline import Pipeline\n",
    "from sklearn.compose import ColumnTransformer\n",
    "\n",
    "from sklearn.impute import SimpleImputer\n",
    "from sklearn.preprocessing import MinMaxScaler, OneHotEncoder\n",
    "\n",
    "from sklearn.linear_model import LogisticRegression\n",
    "\n",
    "from sklearn.model_selection import train_test_split, cross_validate\n",
    "from sklearn.metrics import accuracy_score, precision_score, recall_score, f1_score\n",
    "from sklearn.metrics import roc_auc_score, plot_confusion_matrix, plot_roc_curve"
   ]
  },
  {
   "cell_type": "markdown",
   "metadata": {},
   "source": [
    "First, let's start with the Titanic dataset from earlier today. Target is to predict `Survived`"
   ]
  },
  {
   "cell_type": "code",
   "execution_count": 2,
   "metadata": {},
   "outputs": [],
   "source": [
    "# Grab, then explore data\n",
    "df = pd.read_csv('data/titanic.csv')  "
   ]
  },
  {
   "cell_type": "code",
   "execution_count": 3,
   "metadata": {},
   "outputs": [
    {
     "data": {
      "text/html": [
       "<div>\n",
       "<style scoped>\n",
       "    .dataframe tbody tr th:only-of-type {\n",
       "        vertical-align: middle;\n",
       "    }\n",
       "\n",
       "    .dataframe tbody tr th {\n",
       "        vertical-align: top;\n",
       "    }\n",
       "\n",
       "    .dataframe thead th {\n",
       "        text-align: right;\n",
       "    }\n",
       "</style>\n",
       "<table border=\"1\" class=\"dataframe\">\n",
       "  <thead>\n",
       "    <tr style=\"text-align: right;\">\n",
       "      <th></th>\n",
       "      <th>PassengerId</th>\n",
       "      <th>Survived</th>\n",
       "      <th>Pclass</th>\n",
       "      <th>Name</th>\n",
       "      <th>Sex</th>\n",
       "      <th>Age</th>\n",
       "      <th>SibSp</th>\n",
       "      <th>Parch</th>\n",
       "      <th>Ticket</th>\n",
       "      <th>Fare</th>\n",
       "      <th>Cabin</th>\n",
       "      <th>Embarked</th>\n",
       "    </tr>\n",
       "  </thead>\n",
       "  <tbody>\n",
       "    <tr>\n",
       "      <th>0</th>\n",
       "      <td>1</td>\n",
       "      <td>0</td>\n",
       "      <td>3</td>\n",
       "      <td>Braund, Mr. Owen Harris</td>\n",
       "      <td>male</td>\n",
       "      <td>22.0</td>\n",
       "      <td>1</td>\n",
       "      <td>0</td>\n",
       "      <td>A/5 21171</td>\n",
       "      <td>7.2500</td>\n",
       "      <td>NaN</td>\n",
       "      <td>S</td>\n",
       "    </tr>\n",
       "    <tr>\n",
       "      <th>1</th>\n",
       "      <td>2</td>\n",
       "      <td>1</td>\n",
       "      <td>1</td>\n",
       "      <td>Cumings, Mrs. John Bradley (Florence Briggs Th...</td>\n",
       "      <td>female</td>\n",
       "      <td>38.0</td>\n",
       "      <td>1</td>\n",
       "      <td>0</td>\n",
       "      <td>PC 17599</td>\n",
       "      <td>71.2833</td>\n",
       "      <td>C85</td>\n",
       "      <td>C</td>\n",
       "    </tr>\n",
       "    <tr>\n",
       "      <th>2</th>\n",
       "      <td>3</td>\n",
       "      <td>1</td>\n",
       "      <td>3</td>\n",
       "      <td>Heikkinen, Miss. Laina</td>\n",
       "      <td>female</td>\n",
       "      <td>26.0</td>\n",
       "      <td>0</td>\n",
       "      <td>0</td>\n",
       "      <td>STON/O2. 3101282</td>\n",
       "      <td>7.9250</td>\n",
       "      <td>NaN</td>\n",
       "      <td>S</td>\n",
       "    </tr>\n",
       "    <tr>\n",
       "      <th>3</th>\n",
       "      <td>4</td>\n",
       "      <td>1</td>\n",
       "      <td>1</td>\n",
       "      <td>Futrelle, Mrs. Jacques Heath (Lily May Peel)</td>\n",
       "      <td>female</td>\n",
       "      <td>35.0</td>\n",
       "      <td>1</td>\n",
       "      <td>0</td>\n",
       "      <td>113803</td>\n",
       "      <td>53.1000</td>\n",
       "      <td>C123</td>\n",
       "      <td>S</td>\n",
       "    </tr>\n",
       "    <tr>\n",
       "      <th>4</th>\n",
       "      <td>5</td>\n",
       "      <td>0</td>\n",
       "      <td>3</td>\n",
       "      <td>Allen, Mr. William Henry</td>\n",
       "      <td>male</td>\n",
       "      <td>35.0</td>\n",
       "      <td>0</td>\n",
       "      <td>0</td>\n",
       "      <td>373450</td>\n",
       "      <td>8.0500</td>\n",
       "      <td>NaN</td>\n",
       "      <td>S</td>\n",
       "    </tr>\n",
       "  </tbody>\n",
       "</table>\n",
       "</div>"
      ],
      "text/plain": [
       "   PassengerId  Survived  Pclass  \\\n",
       "0            1         0       3   \n",
       "1            2         1       1   \n",
       "2            3         1       3   \n",
       "3            4         1       1   \n",
       "4            5         0       3   \n",
       "\n",
       "                                                Name     Sex   Age  SibSp  \\\n",
       "0                            Braund, Mr. Owen Harris    male  22.0      1   \n",
       "1  Cumings, Mrs. John Bradley (Florence Briggs Th...  female  38.0      1   \n",
       "2                             Heikkinen, Miss. Laina  female  26.0      0   \n",
       "3       Futrelle, Mrs. Jacques Heath (Lily May Peel)  female  35.0      1   \n",
       "4                           Allen, Mr. William Henry    male  35.0      0   \n",
       "\n",
       "   Parch            Ticket     Fare Cabin Embarked  \n",
       "0      0         A/5 21171   7.2500   NaN        S  \n",
       "1      0          PC 17599  71.2833   C85        C  \n",
       "2      0  STON/O2. 3101282   7.9250   NaN        S  \n",
       "3      0            113803  53.1000  C123        S  \n",
       "4      0            373450   8.0500   NaN        S  "
      ]
     },
     "execution_count": 3,
     "metadata": {},
     "output_type": "execute_result"
    }
   ],
   "source": [
    "df.head()"
   ]
  },
  {
   "cell_type": "code",
   "execution_count": 4,
   "metadata": {},
   "outputs": [
    {
     "name": "stdout",
     "output_type": "stream",
     "text": [
      "<class 'pandas.core.frame.DataFrame'>\n",
      "RangeIndex: 891 entries, 0 to 890\n",
      "Data columns (total 12 columns):\n",
      " #   Column       Non-Null Count  Dtype  \n",
      "---  ------       --------------  -----  \n",
      " 0   PassengerId  891 non-null    int64  \n",
      " 1   Survived     891 non-null    int64  \n",
      " 2   Pclass       891 non-null    int64  \n",
      " 3   Name         891 non-null    object \n",
      " 4   Sex          891 non-null    object \n",
      " 5   Age          714 non-null    float64\n",
      " 6   SibSp        891 non-null    int64  \n",
      " 7   Parch        891 non-null    int64  \n",
      " 8   Ticket       891 non-null    object \n",
      " 9   Fare         891 non-null    float64\n",
      " 10  Cabin        204 non-null    object \n",
      " 11  Embarked     889 non-null    object \n",
      "dtypes: float64(2), int64(5), object(5)\n",
      "memory usage: 83.7+ KB\n"
     ]
    }
   ],
   "source": [
    "df.info()"
   ]
  },
  {
   "cell_type": "code",
   "execution_count": 5,
   "metadata": {},
   "outputs": [
    {
     "data": {
      "text/html": [
       "<div>\n",
       "<style scoped>\n",
       "    .dataframe tbody tr th:only-of-type {\n",
       "        vertical-align: middle;\n",
       "    }\n",
       "\n",
       "    .dataframe tbody tr th {\n",
       "        vertical-align: top;\n",
       "    }\n",
       "\n",
       "    .dataframe thead th {\n",
       "        text-align: right;\n",
       "    }\n",
       "</style>\n",
       "<table border=\"1\" class=\"dataframe\">\n",
       "  <thead>\n",
       "    <tr style=\"text-align: right;\">\n",
       "      <th></th>\n",
       "      <th>PassengerId</th>\n",
       "      <th>Survived</th>\n",
       "      <th>Pclass</th>\n",
       "      <th>Age</th>\n",
       "      <th>SibSp</th>\n",
       "      <th>Parch</th>\n",
       "      <th>Fare</th>\n",
       "    </tr>\n",
       "  </thead>\n",
       "  <tbody>\n",
       "    <tr>\n",
       "      <th>count</th>\n",
       "      <td>891.000000</td>\n",
       "      <td>891.000000</td>\n",
       "      <td>891.000000</td>\n",
       "      <td>714.000000</td>\n",
       "      <td>891.000000</td>\n",
       "      <td>891.000000</td>\n",
       "      <td>891.000000</td>\n",
       "    </tr>\n",
       "    <tr>\n",
       "      <th>mean</th>\n",
       "      <td>446.000000</td>\n",
       "      <td>0.383838</td>\n",
       "      <td>2.308642</td>\n",
       "      <td>29.699118</td>\n",
       "      <td>0.523008</td>\n",
       "      <td>0.381594</td>\n",
       "      <td>32.204208</td>\n",
       "    </tr>\n",
       "    <tr>\n",
       "      <th>std</th>\n",
       "      <td>257.353842</td>\n",
       "      <td>0.486592</td>\n",
       "      <td>0.836071</td>\n",
       "      <td>14.526497</td>\n",
       "      <td>1.102743</td>\n",
       "      <td>0.806057</td>\n",
       "      <td>49.693429</td>\n",
       "    </tr>\n",
       "    <tr>\n",
       "      <th>min</th>\n",
       "      <td>1.000000</td>\n",
       "      <td>0.000000</td>\n",
       "      <td>1.000000</td>\n",
       "      <td>0.420000</td>\n",
       "      <td>0.000000</td>\n",
       "      <td>0.000000</td>\n",
       "      <td>0.000000</td>\n",
       "    </tr>\n",
       "    <tr>\n",
       "      <th>25%</th>\n",
       "      <td>223.500000</td>\n",
       "      <td>0.000000</td>\n",
       "      <td>2.000000</td>\n",
       "      <td>20.125000</td>\n",
       "      <td>0.000000</td>\n",
       "      <td>0.000000</td>\n",
       "      <td>7.910400</td>\n",
       "    </tr>\n",
       "    <tr>\n",
       "      <th>50%</th>\n",
       "      <td>446.000000</td>\n",
       "      <td>0.000000</td>\n",
       "      <td>3.000000</td>\n",
       "      <td>28.000000</td>\n",
       "      <td>0.000000</td>\n",
       "      <td>0.000000</td>\n",
       "      <td>14.454200</td>\n",
       "    </tr>\n",
       "    <tr>\n",
       "      <th>75%</th>\n",
       "      <td>668.500000</td>\n",
       "      <td>1.000000</td>\n",
       "      <td>3.000000</td>\n",
       "      <td>38.000000</td>\n",
       "      <td>1.000000</td>\n",
       "      <td>0.000000</td>\n",
       "      <td>31.000000</td>\n",
       "    </tr>\n",
       "    <tr>\n",
       "      <th>max</th>\n",
       "      <td>891.000000</td>\n",
       "      <td>1.000000</td>\n",
       "      <td>3.000000</td>\n",
       "      <td>80.000000</td>\n",
       "      <td>8.000000</td>\n",
       "      <td>6.000000</td>\n",
       "      <td>512.329200</td>\n",
       "    </tr>\n",
       "  </tbody>\n",
       "</table>\n",
       "</div>"
      ],
      "text/plain": [
       "       PassengerId    Survived      Pclass         Age       SibSp  \\\n",
       "count   891.000000  891.000000  891.000000  714.000000  891.000000   \n",
       "mean    446.000000    0.383838    2.308642   29.699118    0.523008   \n",
       "std     257.353842    0.486592    0.836071   14.526497    1.102743   \n",
       "min       1.000000    0.000000    1.000000    0.420000    0.000000   \n",
       "25%     223.500000    0.000000    2.000000   20.125000    0.000000   \n",
       "50%     446.000000    0.000000    3.000000   28.000000    0.000000   \n",
       "75%     668.500000    1.000000    3.000000   38.000000    1.000000   \n",
       "max     891.000000    1.000000    3.000000   80.000000    8.000000   \n",
       "\n",
       "            Parch        Fare  \n",
       "count  891.000000  891.000000  \n",
       "mean     0.381594   32.204208  \n",
       "std      0.806057   49.693429  \n",
       "min      0.000000    0.000000  \n",
       "25%      0.000000    7.910400  \n",
       "50%      0.000000   14.454200  \n",
       "75%      0.000000   31.000000  \n",
       "max      6.000000  512.329200  "
      ]
     },
     "execution_count": 5,
     "metadata": {},
     "output_type": "execute_result"
    }
   ],
   "source": [
    "# Exploring numeric cols\n",
    "df.describe()"
   ]
  },
  {
   "cell_type": "code",
   "execution_count": 6,
   "metadata": {},
   "outputs": [
    {
     "data": {
      "text/html": [
       "<div>\n",
       "<style scoped>\n",
       "    .dataframe tbody tr th:only-of-type {\n",
       "        vertical-align: middle;\n",
       "    }\n",
       "\n",
       "    .dataframe tbody tr th {\n",
       "        vertical-align: top;\n",
       "    }\n",
       "\n",
       "    .dataframe thead th {\n",
       "        text-align: right;\n",
       "    }\n",
       "</style>\n",
       "<table border=\"1\" class=\"dataframe\">\n",
       "  <thead>\n",
       "    <tr style=\"text-align: right;\">\n",
       "      <th></th>\n",
       "      <th>Name</th>\n",
       "      <th>Sex</th>\n",
       "      <th>Ticket</th>\n",
       "      <th>Cabin</th>\n",
       "      <th>Embarked</th>\n",
       "    </tr>\n",
       "  </thead>\n",
       "  <tbody>\n",
       "    <tr>\n",
       "      <th>count</th>\n",
       "      <td>891</td>\n",
       "      <td>891</td>\n",
       "      <td>891</td>\n",
       "      <td>204</td>\n",
       "      <td>889</td>\n",
       "    </tr>\n",
       "    <tr>\n",
       "      <th>unique</th>\n",
       "      <td>891</td>\n",
       "      <td>2</td>\n",
       "      <td>681</td>\n",
       "      <td>147</td>\n",
       "      <td>3</td>\n",
       "    </tr>\n",
       "    <tr>\n",
       "      <th>top</th>\n",
       "      <td>Hoyt, Mrs. Frederick Maxfield (Jane Anne Forby)</td>\n",
       "      <td>male</td>\n",
       "      <td>CA. 2343</td>\n",
       "      <td>C23 C25 C27</td>\n",
       "      <td>S</td>\n",
       "    </tr>\n",
       "    <tr>\n",
       "      <th>freq</th>\n",
       "      <td>1</td>\n",
       "      <td>577</td>\n",
       "      <td>7</td>\n",
       "      <td>4</td>\n",
       "      <td>644</td>\n",
       "    </tr>\n",
       "  </tbody>\n",
       "</table>\n",
       "</div>"
      ],
      "text/plain": [
       "                                                   Name   Sex    Ticket  \\\n",
       "count                                               891   891       891   \n",
       "unique                                              891     2       681   \n",
       "top     Hoyt, Mrs. Frederick Maxfield (Jane Anne Forby)  male  CA. 2343   \n",
       "freq                                                  1   577         7   \n",
       "\n",
       "              Cabin Embarked  \n",
       "count           204      889  \n",
       "unique          147        3  \n",
       "top     C23 C25 C27        S  \n",
       "freq              4      644  "
      ]
     },
     "execution_count": 6,
     "metadata": {},
     "output_type": "execute_result"
    }
   ],
   "source": [
    "# Exploring object cols\n",
    "df[[c for c in df.columns if df[c].dtype == 'object']].describe()"
   ]
  },
  {
   "cell_type": "markdown",
   "metadata": {},
   "source": [
    "### Baseline Understanding - Aka Model-less Baseline"
   ]
  },
  {
   "cell_type": "code",
   "execution_count": 7,
   "metadata": {},
   "outputs": [
    {
     "data": {
      "text/plain": [
       "0    0.616162\n",
       "1    0.383838\n",
       "Name: Survived, dtype: float64"
      ]
     },
     "execution_count": 7,
     "metadata": {},
     "output_type": "execute_result"
    }
   ],
   "source": [
    "# Exploring target distribution\n",
    "df['Survived'].value_counts(normalize=True)"
   ]
  },
  {
   "cell_type": "code",
   "execution_count": 8,
   "metadata": {},
   "outputs": [
    {
     "data": {
      "image/png": "[encoded data removed]",
      "text/plain": [
       "<Figure size 432x288 with 1 Axes>"
      ]
     },
     "metadata": {
      "needs_background": "light"
     },
     "output_type": "display_data"
    }
   ],
   "source": [
    "df['Survived'].value_counts().plot(kind='bar');"
   ]
  },
  {
   "cell_type": "markdown",
   "metadata": {},
   "source": [
    "Evaluate - any thoughts on our model-less understanding?\n",
    "\n",
    "- If we assume no one survived the Titanic, we're right about 62% of the time\n",
    "- This is our accuracy\n"
   ]
  },
  {
   "cell_type": "markdown",
   "metadata": {},
   "source": [
    "### Baseline Model\n",
    "\n",
    "Let's find out how hard our problem is, by throwing things at it and seeing what sticks!\n",
    "\n",
    "Biggest thing to think about - what types of columns need to be treated differently?\n",
    "\n",
    "Reference: https://scikit-learn.org/stable/auto_examples/compose/plot_column_transformer_mixed_types.html"
   ]
  },
  {
   "cell_type": "code",
   "execution_count": 9,
   "metadata": {},
   "outputs": [
    {
     "data": {
      "text/html": [
       "<div>\n",
       "<style scoped>\n",
       "    .dataframe tbody tr th:only-of-type {\n",
       "        vertical-align: middle;\n",
       "    }\n",
       "\n",
       "    .dataframe tbody tr th {\n",
       "        vertical-align: top;\n",
       "    }\n",
       "\n",
       "    .dataframe thead th {\n",
       "        text-align: right;\n",
       "    }\n",
       "</style>\n",
       "<table border=\"1\" class=\"dataframe\">\n",
       "  <thead>\n",
       "    <tr style=\"text-align: right;\">\n",
       "      <th></th>\n",
       "      <th>PassengerId</th>\n",
       "      <th>Survived</th>\n",
       "      <th>Pclass</th>\n",
       "      <th>Name</th>\n",
       "      <th>Sex</th>\n",
       "      <th>Age</th>\n",
       "      <th>SibSp</th>\n",
       "      <th>Parch</th>\n",
       "      <th>Ticket</th>\n",
       "      <th>Fare</th>\n",
       "      <th>Cabin</th>\n",
       "      <th>Embarked</th>\n",
       "    </tr>\n",
       "  </thead>\n",
       "  <tbody>\n",
       "    <tr>\n",
       "      <th>0</th>\n",
       "      <td>1</td>\n",
       "      <td>0</td>\n",
       "      <td>3</td>\n",
       "      <td>Braund, Mr. Owen Harris</td>\n",
       "      <td>male</td>\n",
       "      <td>22.0</td>\n",
       "      <td>1</td>\n",
       "      <td>0</td>\n",
       "      <td>A/5 21171</td>\n",
       "      <td>7.2500</td>\n",
       "      <td>NaN</td>\n",
       "      <td>S</td>\n",
       "    </tr>\n",
       "    <tr>\n",
       "      <th>1</th>\n",
       "      <td>2</td>\n",
       "      <td>1</td>\n",
       "      <td>1</td>\n",
       "      <td>Cumings, Mrs. John Bradley (Florence Briggs Th...</td>\n",
       "      <td>female</td>\n",
       "      <td>38.0</td>\n",
       "      <td>1</td>\n",
       "      <td>0</td>\n",
       "      <td>PC 17599</td>\n",
       "      <td>71.2833</td>\n",
       "      <td>C85</td>\n",
       "      <td>C</td>\n",
       "    </tr>\n",
       "    <tr>\n",
       "      <th>2</th>\n",
       "      <td>3</td>\n",
       "      <td>1</td>\n",
       "      <td>3</td>\n",
       "      <td>Heikkinen, Miss. Laina</td>\n",
       "      <td>female</td>\n",
       "      <td>26.0</td>\n",
       "      <td>0</td>\n",
       "      <td>0</td>\n",
       "      <td>STON/O2. 3101282</td>\n",
       "      <td>7.9250</td>\n",
       "      <td>NaN</td>\n",
       "      <td>S</td>\n",
       "    </tr>\n",
       "    <tr>\n",
       "      <th>3</th>\n",
       "      <td>4</td>\n",
       "      <td>1</td>\n",
       "      <td>1</td>\n",
       "      <td>Futrelle, Mrs. Jacques Heath (Lily May Peel)</td>\n",
       "      <td>female</td>\n",
       "      <td>35.0</td>\n",
       "      <td>1</td>\n",
       "      <td>0</td>\n",
       "      <td>113803</td>\n",
       "      <td>53.1000</td>\n",
       "      <td>C123</td>\n",
       "      <td>S</td>\n",
       "    </tr>\n",
       "    <tr>\n",
       "      <th>4</th>\n",
       "      <td>5</td>\n",
       "      <td>0</td>\n",
       "      <td>3</td>\n",
       "      <td>Allen, Mr. William Henry</td>\n",
       "      <td>male</td>\n",
       "      <td>35.0</td>\n",
       "      <td>0</td>\n",
       "      <td>0</td>\n",
       "      <td>373450</td>\n",
       "      <td>8.0500</td>\n",
       "      <td>NaN</td>\n",
       "      <td>S</td>\n",
       "    </tr>\n",
       "  </tbody>\n",
       "</table>\n",
       "</div>"
      ],
      "text/plain": [
       "   PassengerId  Survived  Pclass  \\\n",
       "0            1         0       3   \n",
       "1            2         1       1   \n",
       "2            3         1       3   \n",
       "3            4         1       1   \n",
       "4            5         0       3   \n",
       "\n",
       "                                                Name     Sex   Age  SibSp  \\\n",
       "0                            Braund, Mr. Owen Harris    male  22.0      1   \n",
       "1  Cumings, Mrs. John Bradley (Florence Briggs Th...  female  38.0      1   \n",
       "2                             Heikkinen, Miss. Laina  female  26.0      0   \n",
       "3       Futrelle, Mrs. Jacques Heath (Lily May Peel)  female  35.0      1   \n",
       "4                           Allen, Mr. William Henry    male  35.0      0   \n",
       "\n",
       "   Parch            Ticket     Fare Cabin Embarked  \n",
       "0      0         A/5 21171   7.2500   NaN        S  \n",
       "1      0          PC 17599  71.2833   C85        C  \n",
       "2      0  STON/O2. 3101282   7.9250   NaN        S  \n",
       "3      0            113803  53.1000  C123        S  \n",
       "4      0            373450   8.0500   NaN        S  "
      ]
     },
     "execution_count": 9,
     "metadata": {},
     "output_type": "execute_result"
    }
   ],
   "source": [
    "df.head()"
   ]
  },
  {
   "cell_type": "code",
   "execution_count": 10,
   "metadata": {},
   "outputs": [
    {
     "data": {
      "text/plain": [
       "['Pclass', 'Sex', 'Age', 'SibSp', 'Parch', 'Fare', 'Embarked']"
      ]
     },
     "execution_count": 10,
     "metadata": {},
     "output_type": "execute_result"
    }
   ],
   "source": [
    "# First define our used columns\n",
    "\n",
    "# Let's not use ['PassengerId', 'Name', 'Ticket', 'Cabin', 'Survived']\n",
    "used_cols = [c for c in df.columns if c not in ['PassengerId', 'Name', 'Ticket', 'Cabin',\\\n",
    "                                                'Survived']]\n",
    "used_cols\n",
    "# used_cols = []\n",
    "# for c in df.columns:\n",
    "#     if c not in ['PassengerId', 'Name', 'Ticket', 'Cabin', 'Survived']:\n",
    "#         used_cols.append(c)"
   ]
  },
  {
   "cell_type": "code",
   "execution_count": 11,
   "metadata": {},
   "outputs": [],
   "source": [
    "# Define our X and y\n",
    "\n",
    "X = df[used_cols]\n",
    "y = df['Survived']\n",
    "\n",
    "# and train test split - to create our val holdout set!\n",
    "X_train, X_hold, y_train, y_hold = train_test_split(X, y, test_size=0.15,\n",
    "                                                    random_state=0)"
   ]
  },
  {
   "cell_type": "markdown",
   "metadata": {},
   "source": [
    "*Notice the hold out set*"
   ]
  },
  {
   "cell_type": "markdown",
   "metadata": {},
   "source": [
    "Reference: https://scikit-learn.org/stable/auto_examples/compose/plot_column_transformer_mixed_types.html"
   ]
  },
  {
   "cell_type": "code",
   "execution_count": 12,
   "metadata": {},
   "outputs": [],
   "source": [
    "# Set up lists for columns requiring different treatment\n",
    "num_cols = []\n",
    "cat_cols = []\n",
    "\n",
    "for c in used_cols:\n",
    "    if X[c].dtype in ['float64', 'int64']:\n",
    "        num_cols.append(c)\n",
    "    else:\n",
    "        cat_cols.append(c)"
   ]
  },
  {
   "cell_type": "code",
   "execution_count": 13,
   "metadata": {},
   "outputs": [
    {
     "name": "stdout",
     "output_type": "stream",
     "text": [
      "['Pclass', 'Age', 'SibSp', 'Parch', 'Fare']\n",
      "['Sex', 'Embarked']\n"
     ]
    }
   ],
   "source": [
    "# Check our work\n",
    "print(num_cols)\n",
    "print(cat_cols)"
   ]
  },
  {
   "cell_type": "code",
   "execution_count": 14,
   "metadata": {},
   "outputs": [],
   "source": [
    "# Now, setting up the preprocessing steps for each type of col\n",
    "num_transformer = Pipeline(steps=[\n",
    "    ('num_imputer', SimpleImputer(strategy='median')),\n",
    "    ('scaler', MinMaxScaler())])\n",
    "\n",
    "cat_transformer = Pipeline(steps=[\n",
    "    ('cat_imputer', SimpleImputer(strategy='constant', fill_value = 'Unknown')),\n",
    "    ('ohe', OneHotEncoder(handle_unknown='ignore'))\n",
    "])\n"
   ]
  },
  {
   "cell_type": "code",
   "execution_count": 15,
   "metadata": {},
   "outputs": [],
   "source": [
    "# Package those pieces together using ColumnTransformer\n",
    "preprocessor = ColumnTransformer(\n",
    "    transformers=[\n",
    "        ('num', num_transformer, num_cols),\n",
    "        ('cat', cat_transformer, cat_cols)\n",
    "    ])"
   ]
  },
  {
   "cell_type": "code",
   "execution_count": 16,
   "metadata": {},
   "outputs": [
    {
     "data": {
      "text/plain": [
       "(757, 11)"
      ]
     },
     "execution_count": 16,
     "metadata": {},
     "output_type": "execute_result"
    }
   ],
   "source": [
    "# Just out of curiosity, let's see what this looks like \n",
    "X_tr_transformed = preprocessor.fit_transform(X_train)\n",
    "X_tr_transformed.shape"
   ]
  },
  {
   "cell_type": "code",
   "execution_count": 17,
   "metadata": {},
   "outputs": [
    {
     "data": {
      "text/html": [
       "<div>\n",
       "<style scoped>\n",
       "    .dataframe tbody tr th:only-of-type {\n",
       "        vertical-align: middle;\n",
       "    }\n",
       "\n",
       "    .dataframe tbody tr th {\n",
       "        vertical-align: top;\n",
       "    }\n",
       "\n",
       "    .dataframe thead th {\n",
       "        text-align: right;\n",
       "    }\n",
       "</style>\n",
       "<table border=\"1\" class=\"dataframe\">\n",
       "  <thead>\n",
       "    <tr style=\"text-align: right;\">\n",
       "      <th></th>\n",
       "      <th>0</th>\n",
       "      <th>1</th>\n",
       "      <th>2</th>\n",
       "      <th>3</th>\n",
       "      <th>4</th>\n",
       "      <th>5</th>\n",
       "      <th>6</th>\n",
       "      <th>7</th>\n",
       "      <th>8</th>\n",
       "      <th>9</th>\n",
       "      <th>10</th>\n",
       "    </tr>\n",
       "  </thead>\n",
       "  <tbody>\n",
       "    <tr>\n",
       "      <th>0</th>\n",
       "      <td>0.0</td>\n",
       "      <td>0.798311</td>\n",
       "      <td>0.000</td>\n",
       "      <td>0.000000</td>\n",
       "      <td>0.050749</td>\n",
       "      <td>0.0</td>\n",
       "      <td>1.0</td>\n",
       "      <td>0.0</td>\n",
       "      <td>0.0</td>\n",
       "      <td>1.0</td>\n",
       "      <td>0.0</td>\n",
       "    </tr>\n",
       "    <tr>\n",
       "      <th>1</th>\n",
       "      <td>1.0</td>\n",
       "      <td>0.256271</td>\n",
       "      <td>0.000</td>\n",
       "      <td>0.000000</td>\n",
       "      <td>0.015713</td>\n",
       "      <td>0.0</td>\n",
       "      <td>1.0</td>\n",
       "      <td>0.0</td>\n",
       "      <td>0.0</td>\n",
       "      <td>1.0</td>\n",
       "      <td>0.0</td>\n",
       "    </tr>\n",
       "    <tr>\n",
       "      <th>2</th>\n",
       "      <td>1.0</td>\n",
       "      <td>0.357116</td>\n",
       "      <td>0.125</td>\n",
       "      <td>0.000000</td>\n",
       "      <td>0.015127</td>\n",
       "      <td>0.0</td>\n",
       "      <td>1.0</td>\n",
       "      <td>0.0</td>\n",
       "      <td>1.0</td>\n",
       "      <td>0.0</td>\n",
       "      <td>0.0</td>\n",
       "    </tr>\n",
       "    <tr>\n",
       "      <th>3</th>\n",
       "      <td>1.0</td>\n",
       "      <td>0.495777</td>\n",
       "      <td>0.125</td>\n",
       "      <td>0.000000</td>\n",
       "      <td>0.018494</td>\n",
       "      <td>1.0</td>\n",
       "      <td>0.0</td>\n",
       "      <td>0.0</td>\n",
       "      <td>0.0</td>\n",
       "      <td>1.0</td>\n",
       "      <td>0.0</td>\n",
       "    </tr>\n",
       "    <tr>\n",
       "      <th>4</th>\n",
       "      <td>0.5</td>\n",
       "      <td>0.546199</td>\n",
       "      <td>0.125</td>\n",
       "      <td>0.000000</td>\n",
       "      <td>0.050749</td>\n",
       "      <td>0.0</td>\n",
       "      <td>1.0</td>\n",
       "      <td>0.0</td>\n",
       "      <td>0.0</td>\n",
       "      <td>1.0</td>\n",
       "      <td>0.0</td>\n",
       "    </tr>\n",
       "    <tr>\n",
       "      <th>...</th>\n",
       "      <td>...</td>\n",
       "      <td>...</td>\n",
       "      <td>...</td>\n",
       "      <td>...</td>\n",
       "      <td>...</td>\n",
       "      <td>...</td>\n",
       "      <td>...</td>\n",
       "      <td>...</td>\n",
       "      <td>...</td>\n",
       "      <td>...</td>\n",
       "      <td>...</td>\n",
       "    </tr>\n",
       "    <tr>\n",
       "      <th>752</th>\n",
       "      <td>0.0</td>\n",
       "      <td>0.483172</td>\n",
       "      <td>0.125</td>\n",
       "      <td>0.166667</td>\n",
       "      <td>0.162314</td>\n",
       "      <td>1.0</td>\n",
       "      <td>0.0</td>\n",
       "      <td>1.0</td>\n",
       "      <td>0.0</td>\n",
       "      <td>0.0</td>\n",
       "      <td>0.0</td>\n",
       "    </tr>\n",
       "    <tr>\n",
       "      <th>753</th>\n",
       "      <td>1.0</td>\n",
       "      <td>0.231060</td>\n",
       "      <td>0.125</td>\n",
       "      <td>0.000000</td>\n",
       "      <td>0.015330</td>\n",
       "      <td>1.0</td>\n",
       "      <td>0.0</td>\n",
       "      <td>0.0</td>\n",
       "      <td>0.0</td>\n",
       "      <td>1.0</td>\n",
       "      <td>0.0</td>\n",
       "    </tr>\n",
       "    <tr>\n",
       "      <th>754</th>\n",
       "      <td>1.0</td>\n",
       "      <td>0.357116</td>\n",
       "      <td>0.000</td>\n",
       "      <td>0.000000</td>\n",
       "      <td>0.015094</td>\n",
       "      <td>0.0</td>\n",
       "      <td>1.0</td>\n",
       "      <td>0.0</td>\n",
       "      <td>1.0</td>\n",
       "      <td>0.0</td>\n",
       "      <td>0.0</td>\n",
       "    </tr>\n",
       "    <tr>\n",
       "      <th>755</th>\n",
       "      <td>1.0</td>\n",
       "      <td>0.445355</td>\n",
       "      <td>0.125</td>\n",
       "      <td>0.000000</td>\n",
       "      <td>0.033963</td>\n",
       "      <td>1.0</td>\n",
       "      <td>0.0</td>\n",
       "      <td>0.0</td>\n",
       "      <td>0.0</td>\n",
       "      <td>1.0</td>\n",
       "      <td>0.0</td>\n",
       "    </tr>\n",
       "    <tr>\n",
       "      <th>756</th>\n",
       "      <td>0.5</td>\n",
       "      <td>0.747889</td>\n",
       "      <td>0.125</td>\n",
       "      <td>0.166667</td>\n",
       "      <td>0.076123</td>\n",
       "      <td>0.0</td>\n",
       "      <td>1.0</td>\n",
       "      <td>0.0</td>\n",
       "      <td>0.0</td>\n",
       "      <td>1.0</td>\n",
       "      <td>0.0</td>\n",
       "    </tr>\n",
       "  </tbody>\n",
       "</table>\n",
       "<p>757 rows × 11 columns</p>\n",
       "</div>"
      ],
      "text/plain": [
       "      0         1      2         3         4    5    6    7    8    9    10\n",
       "0    0.0  0.798311  0.000  0.000000  0.050749  0.0  1.0  0.0  0.0  1.0  0.0\n",
       "1    1.0  0.256271  0.000  0.000000  0.015713  0.0  1.0  0.0  0.0  1.0  0.0\n",
       "2    1.0  0.357116  0.125  0.000000  0.015127  0.0  1.0  0.0  1.0  0.0  0.0\n",
       "3    1.0  0.495777  0.125  0.000000  0.018494  1.0  0.0  0.0  0.0  1.0  0.0\n",
       "4    0.5  0.546199  0.125  0.000000  0.050749  0.0  1.0  0.0  0.0  1.0  0.0\n",
       "..   ...       ...    ...       ...       ...  ...  ...  ...  ...  ...  ...\n",
       "752  0.0  0.483172  0.125  0.166667  0.162314  1.0  0.0  1.0  0.0  0.0  0.0\n",
       "753  1.0  0.231060  0.125  0.000000  0.015330  1.0  0.0  0.0  0.0  1.0  0.0\n",
       "754  1.0  0.357116  0.000  0.000000  0.015094  0.0  1.0  0.0  1.0  0.0  0.0\n",
       "755  1.0  0.445355  0.125  0.000000  0.033963  1.0  0.0  0.0  0.0  1.0  0.0\n",
       "756  0.5  0.747889  0.125  0.166667  0.076123  0.0  1.0  0.0  0.0  1.0  0.0\n",
       "\n",
       "[757 rows x 11 columns]"
      ]
     },
     "execution_count": 17,
     "metadata": {},
     "output_type": "execute_result"
    }
   ],
   "source": [
    "pd.DataFrame(X_tr_transformed)"
   ]
  },
  {
   "cell_type": "code",
   "execution_count": 18,
   "metadata": {},
   "outputs": [
    {
     "data": {
      "text/plain": [
       "ColumnTransformer(transformers=[('num',\n",
       "                                 Pipeline(steps=[('num_imputer',\n",
       "                                                  SimpleImputer(strategy='median')),\n",
       "                                                 ('scaler', MinMaxScaler())]),\n",
       "                                 ['Pclass', 'Age', 'SibSp', 'Parch', 'Fare']),\n",
       "                                ('cat',\n",
       "                                 Pipeline(steps=[('cat_imputer',\n",
       "                                                  SimpleImputer(fill_value='Unknown',\n",
       "                                                                strategy='constant')),\n",
       "                                                 ('ohe',\n",
       "                                                  OneHotEncoder(handle_unknown='ignore'))]),\n",
       "                                 ['Sex', 'Embarked'])])"
      ]
     },
     "execution_count": 18,
     "metadata": {},
     "output_type": "execute_result"
    }
   ],
   "source": [
    "preprocessor"
   ]
  },
  {
   "cell_type": "code",
   "execution_count": 19,
   "metadata": {},
   "outputs": [],
   "source": [
    "# Append classifier to preprocessing pipeline.\n",
    "# Now we have a full prediction pipeline.\n",
    "clf = Pipeline(steps=[\n",
    "    ('preprocessor', preprocessor),\n",
    "    ('classifier', LogisticRegression(random_state = 5))\n",
    "     ])"
   ]
  },
  {
   "cell_type": "code",
   "execution_count": 20,
   "metadata": {},
   "outputs": [
    {
     "name": "stdout",
     "output_type": "stream",
     "text": [
      "Average Accuracy: 0.7979013739883305 +/- 0.0166398338923268\n",
      "Average ROC-AUC: 0.8500116497342969 +/- 0.02235041212719477\n"
     ]
    }
   ],
   "source": [
    "\n",
    "# Now - cross_validate!\n",
    "output = cross_validate(clf, X_train, y_train, cv=3, scoring=['accuracy', 'roc_auc'])\n",
    "\n",
    "# Print our test scores to show average and a measure of variation\n",
    "print(f\"Average Accuracy: {output['test_accuracy'].mean()} +/- {output['test_accuracy'].std()}\")\n",
    "print(f\"Average ROC-AUC: {output['test_roc_auc'].mean()} +/- {output['test_roc_auc'].std()}\")"
   ]
  },
  {
   "cell_type": "markdown",
   "metadata": {},
   "source": [
    "*You can change the scoring. Just go to classification metrics in sklearn doc*"
   ]
  },
  {
   "cell_type": "code",
   "execution_count": 21,
   "metadata": {},
   "outputs": [
    {
     "data": {
      "text/plain": [
       "{'fit_time': array([0.02059412, 0.02096319, 0.01898813]),\n",
       " 'score_time': array([0.01497889, 0.01257586, 0.01222396]),\n",
       " 'test_accuracy': array([0.78656126, 0.78571429, 0.82142857]),\n",
       " 'test_roc_auc': array([0.84434713, 0.82591351, 0.87977431])}"
      ]
     },
     "execution_count": 21,
     "metadata": {},
     "output_type": "execute_result"
    }
   ],
   "source": [
    "output"
   ]
  },
  {
   "cell_type": "markdown",
   "metadata": {},
   "source": [
    "*No DataLeakage, No Scaling*"
   ]
  },
  {
   "cell_type": "markdown",
   "metadata": {},
   "source": [
    "Evaluate:\n",
    "\n",
    "- Better than baseline \n"
   ]
  },
  {
   "cell_type": "markdown",
   "metadata": {},
   "source": [
    "### Try With Adjusted Hyperparameters"
   ]
  },
  {
   "cell_type": "markdown",
   "metadata": {},
   "source": [
    "*Maybe C or class wight <br> Max_iter or solver doesn't make sense to change yet <br> Let's do `class_weight = 'balanced'` <br> This will make it care more about the minority class (kind of like SMOTE) <br> It will give more weight to the error in the minority class*"
   ]
  },
  {
   "cell_type": "code",
   "execution_count": 22,
   "metadata": {},
   "outputs": [
    {
     "name": "stdout",
     "output_type": "stream",
     "text": [
      "Average Accuracy: 0.7767739506869941 +/- 0.028839779273550907\n",
      "Average ROC-AUC: 0.8505705325488786 +/- 0.021181393033853396\n"
     ]
    }
   ],
   "source": [
    "# Time for a new pipeline!\n",
    "clf_balanced = Pipeline(steps=[\n",
    "    ('preprocessor', preprocessor),\n",
    "    ('classifier', LogisticRegression(random_state=5,\n",
    "                                      class_weight='balanced'))\n",
    "])\n",
    "\n",
    "output = cross_validate(clf_balanced, X_train, y_train, cv=3, scoring=['accuracy', 'roc_auc'])\n",
    "\n",
    "# Print our test scores to show average and a measure of variation\n",
    "print(f\"Average Accuracy: {output['test_accuracy'].mean()} +/- {output['test_accuracy'].std()}\")\n",
    "print(f\"Average ROC-AUC: {output['test_roc_auc'].mean()} +/- {output['test_roc_auc'].std()}\")"
   ]
  },
  {
   "cell_type": "code",
   "execution_count": 23,
   "metadata": {},
   "outputs": [
    {
     "data": {
      "text/plain": [
       "Pipeline(steps=[('preprocessor',\n",
       "                 ColumnTransformer(transformers=[('num',\n",
       "                                                  Pipeline(steps=[('num_imputer',\n",
       "                                                                   SimpleImputer(strategy='median')),\n",
       "                                                                  ('scaler',\n",
       "                                                                   MinMaxScaler())]),\n",
       "                                                  ['Pclass', 'Age', 'SibSp',\n",
       "                                                   'Parch', 'Fare']),\n",
       "                                                 ('cat',\n",
       "                                                  Pipeline(steps=[('cat_imputer',\n",
       "                                                                   SimpleImputer(fill_value='Unknown',\n",
       "                                                                                 strategy='constant')),\n",
       "                                                                  ('ohe',\n",
       "                                                                   OneHotEncoder(handle_unknown='ignore'))]),\n",
       "                                                  ['Sex', 'Embarked'])])),\n",
       "                ('classifier',\n",
       "                 LogisticRegression(class_weight='balanced', random_state=5))])"
      ]
     },
     "execution_count": 23,
     "metadata": {},
     "output_type": "execute_result"
    }
   ],
   "source": [
    "clf_balanced"
   ]
  },
  {
   "cell_type": "markdown",
   "metadata": {},
   "source": [
    "Evaluate:\n",
    "\n",
    "- \n"
   ]
  },
  {
   "cell_type": "markdown",
   "metadata": {},
   "source": [
    "### Validate\n",
    "\n",
    "How does this perform on our holdout set?\n",
    "\n",
    "First off - what might we want to check to evaluate our model?\n",
    "\n",
    "- Confusion Matrix (talks about type 1 and type 2 error)\n",
    "- Accuracy, Precision, Recall, f1-score\n",
    "- Roc-Auc\n"
   ]
  },
  {
   "cell_type": "markdown",
   "metadata": {},
   "source": [
    "Reference: https://scikit-learn.org/stable/modules/classes.html#module-sklearn.metrics"
   ]
  },
  {
   "cell_type": "code",
   "execution_count": 24,
   "metadata": {},
   "outputs": [
    {
     "data": {
      "text/plain": [
       "Pipeline(steps=[('preprocessor',\n",
       "                 ColumnTransformer(transformers=[('num',\n",
       "                                                  Pipeline(steps=[('num_imputer',\n",
       "                                                                   SimpleImputer(strategy='median')),\n",
       "                                                                  ('scaler',\n",
       "                                                                   MinMaxScaler())]),\n",
       "                                                  ['Pclass', 'Age', 'SibSp',\n",
       "                                                   'Parch', 'Fare']),\n",
       "                                                 ('cat',\n",
       "                                                  Pipeline(steps=[('cat_imputer',\n",
       "                                                                   SimpleImputer(fill_value='Unknown',\n",
       "                                                                                 strategy='constant')),\n",
       "                                                                  ('ohe',\n",
       "                                                                   OneHotEncoder(handle_unknown='ignore'))]),\n",
       "                                                  ['Sex', 'Embarked'])])),\n",
       "                ('classifier',\n",
       "                 LogisticRegression(class_weight='balanced', random_state=5))])"
      ]
     },
     "execution_count": 24,
     "metadata": {},
     "output_type": "execute_result"
    }
   ],
   "source": [
    "# Can use a pipeline we defined earlier, but need to fit it\n",
    "clf_balanced.fit(X_train, y_train)"
   ]
  },
  {
   "cell_type": "code",
   "execution_count": 25,
   "metadata": {},
   "outputs": [],
   "source": [
    "# Grab predictions\n",
    "train_preds = clf_balanced.predict(X_train)\n",
    "hold_preds = clf_balanced.predict(X_hold)"
   ]
  },
  {
   "cell_type": "code",
   "execution_count": 26,
   "metadata": {},
   "outputs": [
    {
     "data": {
      "text/plain": [
       "<sklearn.metrics._plot.confusion_matrix.ConfusionMatrixDisplay at 0x7fd07f428250>"
      ]
     },
     "execution_count": 26,
     "metadata": {},
     "output_type": "execute_result"
    },
    {
     "data": {
      "image/png": "[encoded data removed]",
      "text/plain": [
       "<Figure size 432x288 with 2 Axes>"
      ]
     },
     "metadata": {
      "needs_background": "light"
     },
     "output_type": "display_data"
    }
   ],
   "source": [
    "# What do we want to check first?\n",
    "plot_confusion_matrix(clf_balanced, X_hold, y_hold)"
   ]
  },
  {
   "cell_type": "code",
   "execution_count": 27,
   "metadata": {},
   "outputs": [
    {
     "name": "stdout",
     "output_type": "stream",
     "text": [
      "Training Scores:\n",
      "Train Accuracy: 0.7780713342140027\n",
      "Train Precision: 0.6925566343042071\n",
      "Train Recall: 0.7456445993031359\n",
      "Train F1-Score: 0.7181208053691275\n",
      "**********\n",
      "Hold Out Scores:\n",
      "Test Accuracy: 0.7761194029850746\n",
      "Test Precision: 0.6984126984126984\n",
      "Test Recall: 0.8\n",
      "Test F1-Score: 0.7457627118644068\n"
     ]
    }
   ],
   "source": [
    "# More space to check more metrics\n",
    "print(\"Training Scores:\")\n",
    "print(f\"Train Accuracy: {accuracy_score(y_train, train_preds)}\")\n",
    "print(f\"Train Precision: {precision_score(y_train, train_preds)}\")\n",
    "print(f\"Train Recall: {recall_score(y_train, train_preds)}\")\n",
    "print(f\"Train F1-Score: {f1_score(y_train, train_preds)}\")\n",
    "print(\"*\" * 10)\n",
    "print(\"Hold Out Scores:\")\n",
    "print(f\"Test Accuracy: {accuracy_score(y_hold, hold_preds)}\")\n",
    "print(f\"Test Precision: {precision_score(y_hold, hold_preds)}\")\n",
    "print(f\"Test Recall: {recall_score(y_hold, hold_preds)}\")\n",
    "print(f\"Test F1-Score: {f1_score(y_hold, hold_preds)}\")"
   ]
  },
  {
   "cell_type": "code",
   "execution_count": 28,
   "metadata": {},
   "outputs": [],
   "source": [
    "#ROC-AUC IS DIFFERENT\n",
    "train_probas = clf_balanced.predict_proba(X_train)[:,1]\n",
    "hold_probas = clf_balanced.predict_proba(X_hold)[:,1]"
   ]
  },
  {
   "cell_type": "code",
   "execution_count": 29,
   "metadata": {},
   "outputs": [
    {
     "data": {
      "text/plain": [
       "array([0, 0, 0, 1, 0, 0, 0, 1, 0, 1, 1, 1, 0, 1, 1, 0, 0, 1, 1, 0, 1, 0,\n",
       "       1, 0, 1, 1, 0, 0, 1, 1, 0, 0, 0, 0, 0, 0, 0, 1, 0, 0, 1, 0, 1, 0,\n",
       "       0, 1, 0, 0, 0, 0, 0, 0, 1, 0, 0, 1, 1, 0, 1, 1, 0, 0, 0, 1, 1, 0,\n",
       "       0, 1, 0, 1, 0, 0, 1, 0, 1, 0, 0, 0, 0, 1, 0, 0, 0, 0, 1, 1, 0, 1,\n",
       "       1, 0, 1, 0, 0, 1, 0, 0, 0, 1, 1, 1, 0, 0, 1, 1, 1, 0, 0, 1, 0, 0,\n",
       "       1, 0, 1, 0, 0, 1, 0, 0, 0, 0, 1, 1, 1, 0, 0, 0, 0, 0, 0, 0, 0, 0,\n",
       "       1, 1, 0, 1, 0, 0, 1, 0, 1, 0, 0, 0, 1, 1, 0, 1, 1, 1, 0, 0, 0, 1,\n",
       "       0, 1, 0, 0, 1, 1, 1, 0, 0, 0, 0, 0, 1, 0, 0, 0, 1, 1, 0, 1, 1, 0,\n",
       "       0, 1, 1, 0, 0, 1, 0, 0, 0, 0, 0, 1, 1, 1, 0, 0, 0, 0, 0, 0, 1, 0,\n",
       "       0, 0, 0, 0, 0, 0, 1, 0, 0, 1, 0, 0, 1, 0, 1, 0, 0, 0, 1, 1, 0, 0,\n",
       "       1, 0, 1, 1, 0, 1, 1, 1, 1, 1, 1, 1, 1, 0, 0, 1, 0, 0, 1, 0, 1, 0,\n",
       "       1, 0, 1, 0, 1, 0, 1, 0, 0, 0, 0, 0, 1, 1, 0, 1, 1, 0, 0, 0, 1, 0,\n",
       "       1, 0, 0, 1, 1, 1, 0, 1, 1, 1, 1, 0, 0, 0, 1, 0, 0, 0, 0, 1, 0, 0,\n",
       "       1, 0, 0, 0, 0, 1, 0, 1, 0, 0, 0, 0, 1, 1, 1, 0, 0, 1, 0, 0, 0, 1,\n",
       "       1, 1, 0, 0, 0, 0, 0, 0, 1, 0, 1, 0, 0, 0, 0, 1, 0, 1, 0, 0, 0, 0,\n",
       "       1, 1, 1, 0, 0, 1, 1, 1, 0, 1, 0, 0, 1, 0, 1, 0, 0, 0, 1, 1, 0, 0,\n",
       "       1, 0, 1, 1, 1, 0, 0, 0, 1, 0, 0, 1, 0, 0, 1, 1, 0, 1, 1, 0, 0, 1,\n",
       "       0, 1, 0, 0, 0, 0, 1, 0, 0, 0, 0, 1, 1, 0, 1, 0, 0, 0, 0, 0, 1, 0,\n",
       "       0, 1, 0, 1, 0, 0, 1, 1, 0, 1, 1, 1, 0, 0, 1, 0, 1, 0, 0, 1, 0, 0,\n",
       "       1, 1, 1, 0, 1, 0, 0, 1, 0, 1, 0, 1, 0, 1, 0, 0, 1, 0, 1, 1, 0, 1,\n",
       "       0, 0, 1, 0, 0, 0, 1, 0, 0, 0, 0, 0, 1, 0, 0, 0, 1, 0, 0, 0, 1, 1,\n",
       "       0, 1, 1, 0, 0, 0, 0, 1, 0, 0, 0, 0, 1, 1, 1, 1, 1, 1, 0, 0, 0, 0,\n",
       "       0, 0, 0, 1, 0, 1, 0, 0, 0, 0, 1, 1, 1, 1, 0, 0, 0, 0, 1, 1, 0, 1,\n",
       "       0, 1, 0, 0, 0, 0, 0, 1, 1, 1, 1, 0, 1, 0, 0, 1, 1, 0, 1, 0, 0, 1,\n",
       "       0, 0, 1, 0, 0, 1, 1, 0, 0, 0, 0, 0, 0, 0, 1, 0, 0, 0, 0, 0, 1, 1,\n",
       "       1, 0, 0, 1, 1, 0, 0, 0, 1, 1, 1, 1, 0, 0, 1, 0, 0, 1, 0, 0, 0, 1,\n",
       "       0, 0, 1, 0, 0, 0, 0, 0, 0, 0, 0, 1, 0, 1, 1, 0, 0, 0, 1, 1, 1, 0,\n",
       "       1, 0, 0, 0, 0, 0, 0, 0, 0, 0, 1, 0, 0, 1, 1, 1, 0, 1, 0, 1, 1, 1,\n",
       "       0, 0, 1, 1, 1, 0, 0, 1, 0, 0, 0, 1, 0, 0, 1, 1, 0, 0, 1, 0, 0, 1,\n",
       "       0, 1, 0, 1, 1, 1, 1, 0, 0, 1, 0, 0, 0, 1, 0, 0, 1, 1, 0, 1, 0, 0,\n",
       "       0, 0, 0, 0, 0, 1, 1, 1, 0, 0, 1, 1, 0, 0, 0, 0, 1, 1, 1, 1, 1, 0,\n",
       "       0, 1, 0, 0, 0, 1, 0, 0, 1, 0, 0, 1, 1, 1, 1, 1, 1, 0, 0, 0, 0, 1,\n",
       "       0, 0, 0, 0, 0, 1, 0, 0, 1, 1, 0, 1, 1, 1, 0, 0, 1, 1, 0, 0, 0, 0,\n",
       "       1, 0, 0, 1, 1, 1, 1, 0, 0, 0, 1, 0, 0, 1, 1, 1, 0, 0, 0, 1, 0, 0,\n",
       "       1, 1, 0, 1, 1, 1, 0, 1, 0])"
      ]
     },
     "execution_count": 29,
     "metadata": {},
     "output_type": "execute_result"
    }
   ],
   "source": [
    "train_preds"
   ]
  },
  {
   "cell_type": "code",
   "execution_count": 30,
   "metadata": {},
   "outputs": [
    {
     "data": {
      "text/plain": [
       "array([0.31076937, 0.19363946, 0.17400923, 0.58782821, 0.20945854,\n",
       "       0.3628632 , 0.33084196, 0.93830209, 0.16073   , 0.80729257,\n",
       "       0.85580038, 0.72868139, 0.31844051, 0.77331304, 0.93511594,\n",
       "       0.16079101, 0.40189909, 0.69443026, 0.65039882, 0.16070262,\n",
       "       0.92822631, 0.34306692, 0.69092712, 0.15870602, 0.75438269,\n",
       "       0.84525427, 0.16071465, 0.28012467, 0.9075315 , 0.54883503,\n",
       "       0.26270605, 0.17654036, 0.09314764, 0.18923251, 0.18071669,\n",
       "       0.21199462, 0.09320975, 0.93964055, 0.16065035, 0.16137335,\n",
       "       0.85231617, 0.16073   , 0.95139341, 0.18493765, 0.20262557,\n",
       "       0.77010827, 0.31193734, 0.36678625, 0.27964606, 0.19354726,\n",
       "       0.43255809, 0.18926131, 0.75440036, 0.32251002, 0.17247929,\n",
       "       0.8405374 , 0.70943726, 0.49379649, 0.84505249, 0.75438098,\n",
       "       0.20155357, 0.40325926, 0.16073   , 0.80386627, 0.51309874,\n",
       "       0.09757775, 0.20723386, 0.75487943, 0.13077074, 0.82443648,\n",
       "       0.20262557, 0.38256421, 0.6492731 , 0.14963987, 0.81604935,\n",
       "       0.09562805, 0.18062426, 0.47296968, 0.14438772, 0.8378626 ,\n",
       "       0.30020211, 0.20260718, 0.36704673, 0.24419847, 0.50812706,\n",
       "       0.96120267, 0.20259277, 0.95643191, 0.79082295, 0.16456648,\n",
       "       0.59012131, 0.13516873, 0.1891707 , 0.78816439, 0.17572087,\n",
       "       0.17332683, 0.1461811 , 0.84126732, 0.71721556, 0.73995633,\n",
       "       0.36127252, 0.1418965 , 0.96565947, 0.91549924, 0.7994397 ,\n",
       "       0.16065657, 0.23175979, 0.86552111, 0.14959878, 0.29053813,\n",
       "       0.95005319, 0.19434642, 0.75443569, 0.16071465, 0.16073   ,\n",
       "       0.70205445, 0.18924384, 0.16253422, 0.47898328, 0.32251002,\n",
       "       0.55987646, 0.72778084, 0.75438269, 0.10857757, 0.15174605,\n",
       "       0.07239917, 0.16071465, 0.17516444, 0.20512774, 0.46582885,\n",
       "       0.20247586, 0.21125759, 0.76072315, 0.65694368, 0.39450265,\n",
       "       0.91968494, 0.13778453, 0.37180352, 0.75487999, 0.41321476,\n",
       "       0.71191846, 0.19809415, 0.15695109, 0.18063428, 0.75439352,\n",
       "       0.69963537, 0.17649743, 0.72050818, 0.54985031, 0.89610788,\n",
       "       0.0508929 , 0.18494228, 0.2518972 , 0.56648761, 0.20055471,\n",
       "       0.55295458, 0.32461048, 0.25940922, 0.77103653, 0.8036902 ,\n",
       "       0.87073747, 0.32420599, 0.28279225, 0.33045328, 0.43567859,\n",
       "       0.29440509, 0.92624496, 0.19368365, 0.13885031, 0.49464559,\n",
       "       0.67617284, 0.75438269, 0.36850281, 0.66659629, 0.7631921 ,\n",
       "       0.17249202, 0.29440509, 0.6483359 , 0.64565718, 0.16065035,\n",
       "       0.18915655, 0.50598196, 0.41679569, 0.16087445, 0.04102676,\n",
       "       0.15323284, 0.23175979, 0.72179228, 0.94724293, 0.85746079,\n",
       "       0.39119187, 0.17483308, 0.36370113, 0.12919418, 0.33609327,\n",
       "       0.19830483, 0.83233607, 0.12744252, 0.23590816, 0.38896443,\n",
       "       0.12880724, 0.12932816, 0.26885988, 0.30482981, 0.89339096,\n",
       "       0.10316774, 0.16071465, 0.50090818, 0.19361016, 0.33713336,\n",
       "       0.52226864, 0.48712079, 0.85373847, 0.40931093, 0.19360777,\n",
       "       0.42397763, 0.87184237, 0.81107005, 0.13904437, 0.09319104,\n",
       "       0.89065265, 0.14603335, 0.8891395 , 0.70559844, 0.29440509,\n",
       "       0.5014434 , 0.56648761, 0.93026497, 0.90197769, 0.92625189,\n",
       "       0.76076067, 0.93783054, 0.73410374, 0.2166813 , 0.17249115,\n",
       "       0.9585812 , 0.20720303, 0.17668339, 0.73747768, 0.43317603,\n",
       "       0.56648761, 0.37881272, 0.65054621, 0.19826425, 0.82693612,\n",
       "       0.09613752, 0.88513774, 0.16071465, 0.8160512 , 0.20166711,\n",
       "       0.19361065, 0.16073   , 0.23175923, 0.16073   , 0.82028947,\n",
       "       0.73099602, 0.20145855, 0.95686984, 0.69284741, 0.16071257,\n",
       "       0.23184742, 0.41494212, 0.82674322, 0.27399301, 0.84306621,\n",
       "       0.38992022, 0.16345785, 0.95292414, 0.55258958, 0.93843838,\n",
       "       0.17250827, 0.65307452, 0.61322087, 0.54009242, 0.67287071,\n",
       "       0.19362505, 0.31844051, 0.16456648, 0.71720496, 0.16087278,\n",
       "       0.23175979, 0.35634978, 0.1286707 , 0.68937597, 0.37234928,\n",
       "       0.36979087, 0.58369257, 0.11995043, 0.49892965, 0.15421788,\n",
       "       0.18073355, 0.69054694, 0.13508365, 0.82709856, 0.1629732 ,\n",
       "       0.17483308, 0.19374696, 0.12064464, 0.96463214, 0.80167864,\n",
       "       0.54893654, 0.16070262, 0.22292775, 0.83129154, 0.47287321,\n",
       "       0.16071465, 0.11134561, 0.8275104 , 0.60699389, 0.60082193,\n",
       "       0.33026071, 0.12926444, 0.31844051, 0.2243833 , 0.18070576,\n",
       "       0.16857141, 0.7228945 , 0.334398  , 0.86734101, 0.28998226,\n",
       "       0.47341589, 0.32251002, 0.19807119, 0.87689432, 0.18100842,\n",
       "       0.94822188, 0.15687297, 0.18317335, 0.45146525, 0.23175923,\n",
       "       0.72557195, 0.84163223, 0.87866711, 0.1614333 , 0.17249202,\n",
       "       0.87296154, 0.77636598, 0.91385167, 0.34988906, 0.95391625,\n",
       "       0.16472936, 0.28818521, 0.72050818, 0.19823198, 0.65694368,\n",
       "       0.15626233, 0.12065282, 0.40688081, 0.83543586, 0.82751693,\n",
       "       0.10328734, 0.22676212, 0.88680498, 0.18940861, 0.68527331,\n",
       "       0.6839193 , 0.96512735, 0.11648747, 0.49607352, 0.43730371,\n",
       "       0.78547869, 0.20287864, 0.08710794, 0.69799052, 0.21199462,\n",
       "       0.16073   , 0.75043641, 0.69971293, 0.17207847, 0.6175434 ,\n",
       "       0.64086149, 0.18920137, 0.0890893 , 0.90657303, 0.22037507,\n",
       "       0.7520081 , 0.18926131, 0.17647598, 0.14959213, 0.20155357,\n",
       "       0.75639891, 0.42165135, 0.22337266, 0.45172376, 0.18682534,\n",
       "       0.75436616, 0.93237046, 0.23738178, 0.95351743, 0.44458892,\n",
       "       0.20155357, 0.1527317 , 0.11198285, 0.34988906, 0.55153519,\n",
       "       0.20155357, 0.3628632 , 0.87979625, 0.12611653, 0.91616725,\n",
       "       0.2015506 , 0.26590378, 0.73590517, 0.95707867, 0.23175979,\n",
       "       0.90469607, 0.75438269, 0.95440907, 0.139051  , 0.21199462,\n",
       "       0.51063118, 0.10748845, 0.9442219 , 0.20155357, 0.13885031,\n",
       "       0.74643698, 0.38845943, 0.19456906, 0.80282048, 0.96512735,\n",
       "       0.65743847, 0.3180401 , 0.55120207, 0.21686304, 0.24210909,\n",
       "       0.89678278, 0.13913276, 0.86066173, 0.21924641, 0.95993231,\n",
       "       0.23195481, 0.94652546, 0.20350896, 0.17656674, 0.69383271,\n",
       "       0.45979157, 0.59704382, 0.54820528, 0.16065035, 0.8352212 ,\n",
       "       0.16456226, 0.30503121, 0.51618995, 0.08764808, 0.19307195,\n",
       "       0.23184742, 0.89212166, 0.1071879 , 0.16087445, 0.16071465,\n",
       "       0.14959878, 0.1709083 , 0.91803179, 0.38940316, 0.43567859,\n",
       "       0.16664277, 0.74495988, 0.2027368 , 0.20339597, 0.15321847,\n",
       "       0.91909086, 0.97039636, 0.11303704, 0.93212414, 0.81604203,\n",
       "       0.25940922, 0.24331706, 0.13741806, 0.21180507, 0.55904388,\n",
       "       0.19260352, 0.16561311, 0.11133648, 0.23632143, 0.8845168 ,\n",
       "       0.7340497 , 0.91820211, 0.88223064, 0.91974952, 0.81928582,\n",
       "       0.12683617, 0.18067298, 0.17767346, 0.45290944, 0.33713336,\n",
       "       0.16275181, 0.16848175, 0.78920075, 0.16071465, 0.8382255 ,\n",
       "       0.16605664, 0.34233614, 0.34233614, 0.09698324, 0.54819157,\n",
       "       0.66172958, 0.73949203, 0.68152672, 0.20719747, 0.39588403,\n",
       "       0.396131  , 0.13576612, 0.946742  , 0.89795936, 0.18158669,\n",
       "       0.60304466, 0.12790255, 0.94353579, 0.20726418, 0.25967288,\n",
       "       0.17067933, 0.49190583, 0.14417669, 0.91659089, 0.80298599,\n",
       "       0.91440287, 0.95116651, 0.04102676, 0.87073747, 0.14961052,\n",
       "       0.16070262, 0.71021032, 0.96339653, 0.21600902, 0.96085091,\n",
       "       0.43118561, 0.14959878, 0.6474794 , 0.1425552 , 0.4634615 ,\n",
       "       0.85040613, 0.13573148, 0.21910568, 0.96321465, 0.50027614,\n",
       "       0.19361689, 0.11417518, 0.32251002, 0.2404249 , 0.21682753,\n",
       "       0.1891707 , 0.11721535, 0.57820452, 0.2382063 , 0.1808921 ,\n",
       "       0.15508891, 0.35592658, 0.20263849, 0.70229717, 0.88092786,\n",
       "       0.71144396, 0.10850078, 0.11711394, 0.82272629, 0.93492355,\n",
       "       0.24880125, 0.26951336, 0.20156298, 0.75438269, 0.91505866,\n",
       "       0.91327988, 0.54830584, 0.15421977, 0.18924384, 0.84525427,\n",
       "       0.07180826, 0.16073   , 0.54830584, 0.39614889, 0.31233359,\n",
       "       0.11220243, 0.69939751, 0.28748701, 0.16073   , 0.54597204,\n",
       "       0.42641335, 0.24967279, 0.08299461, 0.12611653, 0.11134561,\n",
       "       0.41689514, 0.1425552 , 0.23175923, 0.69617046, 0.20155357,\n",
       "       0.85149138, 0.80192663, 0.43960202, 0.23183852, 0.16071465,\n",
       "       0.5629916 , 0.78589113, 0.63854245, 0.26060278, 0.93107932,\n",
       "       0.38896443, 0.07572349, 0.42317028, 0.26717967, 0.08356674,\n",
       "       0.15709278, 0.16073   , 0.16561311, 0.16073623, 0.81245179,\n",
       "       0.17891874, 0.20155357, 0.53865691, 0.8303333 , 0.90808319,\n",
       "       0.13116732, 0.75438269, 0.18936894, 0.96665447, 0.86672696,\n",
       "       0.93698991, 0.16902698, 0.23175979, 0.87794567, 0.89821885,\n",
       "       0.83857802, 0.20144766, 0.33092368, 0.584433  , 0.26259385,\n",
       "       0.16071465, 0.24412366, 0.84118605, 0.3628632 , 0.2166813 ,\n",
       "       0.82968117, 0.67800307, 0.21231191, 0.11703667, 0.55693183,\n",
       "       0.23175923, 0.32310245, 0.64621481, 0.4989112 , 0.91378772,\n",
       "       0.04102676, 0.75438269, 0.73956668, 0.53893147, 0.8275104 ,\n",
       "       0.38326002, 0.49471915, 0.96032096, 0.15693603, 0.11215597,\n",
       "       0.16073   , 0.7632436 , 0.19371007, 0.16955863, 0.93687679,\n",
       "       0.69043018, 0.20155357, 0.71653865, 0.14602223, 0.41208027,\n",
       "       0.19576423, 0.33563627, 0.25077017, 0.34233614, 0.19797691,\n",
       "       0.95781452, 0.75438269, 0.67688449, 0.04102676, 0.15907946,\n",
       "       0.89125636, 0.54344718, 0.13456029, 0.16063044, 0.36243663,\n",
       "       0.19807119, 0.75438782, 0.55530087, 0.91562495, 0.69124949,\n",
       "       0.9643324 , 0.23428729, 0.1684921 , 0.93752857, 0.19807949,\n",
       "       0.15177647, 0.23184742, 0.68045508, 0.2015511 , 0.16071465,\n",
       "       0.59296233, 0.16455633, 0.15695109, 0.72175311, 0.83129154,\n",
       "       0.82065427, 0.74686788, 0.62098605, 0.75440036, 0.41777751,\n",
       "       0.20155357, 0.20155357, 0.20720051, 0.93930382, 0.22676157,\n",
       "       0.20049554, 0.27115274, 0.48324982, 0.13850934, 0.7543804 ,\n",
       "       0.28241808, 0.24967279, 0.6568695 , 0.72551628, 0.44899997,\n",
       "       0.68779491, 0.78661481, 0.92792244, 0.26011897, 0.1481306 ,\n",
       "       0.82887092, 0.66172958, 0.2030056 , 0.19434642, 0.46013635,\n",
       "       0.19362505, 0.82171622, 0.38657605, 0.11702905, 0.96000785,\n",
       "       0.76103824, 0.95315322, 0.88861066, 0.47208571, 0.16073   ,\n",
       "       0.33928136, 0.91597219, 0.26778129, 0.20613379, 0.68766346,\n",
       "       0.81868135, 0.79989391, 0.30589915, 0.48118875, 0.16839688,\n",
       "       0.72886414, 0.32251002, 0.20971706, 0.92251991, 0.75440036,\n",
       "       0.45659444, 0.90765799, 0.93565551, 0.72066569, 0.20155159,\n",
       "       0.61632573, 0.13945685])"
      ]
     },
     "execution_count": 30,
     "metadata": {},
     "output_type": "execute_result"
    }
   ],
   "source": [
    "train_probas"
   ]
  },
  {
   "cell_type": "code",
   "execution_count": 31,
   "metadata": {},
   "outputs": [
    {
     "name": "stdout",
     "output_type": "stream",
     "text": [
      "Training Scores:\n",
      "Train ROC-AUC: 0.8539217139891764\n",
      "**********\n",
      "Hold Out Scores:\n",
      "Test ROC-AUC: 0.865132336018412\n"
     ]
    }
   ],
   "source": [
    "# Might want to plot a few things to help us visualize our metrics\n",
    "\n",
    "print(\"Training Scores:\")\n",
    "print(f\"Train ROC-AUC: {roc_auc_score(y_train, train_probas)}\")\n",
    "print('*'*10)\n",
    "print(\"Hold Out Scores:\")\n",
    "print(f\"Test ROC-AUC: {roc_auc_score(y_hold, hold_probas)}\")"
   ]
  },
  {
   "cell_type": "markdown",
   "metadata": {},
   "source": [
    "*ROC-AUC needs probabilities*"
   ]
  },
  {
   "cell_type": "markdown",
   "metadata": {},
   "source": [
    "### Now - Let's Build an Evaluate Function for Classification!"
   ]
  },
  {
   "cell_type": "code",
   "execution_count": 32,
   "metadata": {},
   "outputs": [],
   "source": [
    "def evaluate(estimator, X_tr, X_te, y_tr, y_te):\n",
    "                                            #roc_auc = 'skip'\n",
    "                                            #Lindsey also addess this parameter if she needs predict_proba\n",
    "    '''\n",
    "    DOCSTRING\n",
    "    '''\n",
    "    # Grab predictions\n",
    "    tr_preds = estimator.predict(X_tr)\n",
    "    te_preds = estimator.predict(X_te)\n",
    "    \n",
    "    print(\"Training Scores:\")\n",
    "    print(f\"Train Accuracy: {accuracy_score(y_tr, tr_preds)}\")\n",
    "    print(f\"Train Precision: {precision_score(y_tr, tr_preds)}\")\n",
    "    print(f\"Train Recall: {recall_score(y_tr, tr_preds)}\")\n",
    "    print(f\"Train F1-Score: {f1_score(y_tr, tr_preds)}\")\n",
    "    print(\"*\" * 10)\n",
    "    print(\"Hold Out Scores:\")\n",
    "    print(f\"Test Accuracy: {accuracy_score(y_te, te_preds)}\")\n",
    "    print(f\"Test Precision: {precision_score(y_te, te_preds)}\")\n",
    "    print(f\"Test Recall: {recall_score(y_te, te_preds)}\")\n",
    "    print(f\"Test F1-Score: {f1_score(y_te, te_preds)}\")\n",
    "    \n",
    "    \n",
    "    # Plot confusion matrix for test set\n",
    "    plot_confusion_matrix(estimator, X_te, y_te)"
   ]
  },
  {
   "cell_type": "code",
   "execution_count": 33,
   "metadata": {},
   "outputs": [
    {
     "name": "stdout",
     "output_type": "stream",
     "text": [
      "Training Scores:\n",
      "Train Accuracy: 0.7780713342140027\n",
      "Train Precision: 0.6925566343042071\n",
      "Train Recall: 0.7456445993031359\n",
      "Train F1-Score: 0.7181208053691275\n",
      "**********\n",
      "Hold Out Scores:\n",
      "Test Accuracy: 0.7761194029850746\n",
      "Test Precision: 0.6984126984126984\n",
      "Test Recall: 0.8\n",
      "Test F1-Score: 0.7457627118644068\n"
     ]
    },
    {
     "data": {
      "image/png": "[encoded data removed]",
      "text/plain": [
       "<Figure size 432x288 with 2 Axes>"
      ]
     },
     "metadata": {
      "needs_background": "light"
     },
     "output_type": "display_data"
    }
   ],
   "source": [
    "# Use our evaluate function!\n",
    "evaluate(clf_balanced, X_train, X_hold, y_train, y_hold)"
   ]
  },
  {
   "cell_type": "markdown",
   "metadata": {},
   "source": [
    "### Bonus Visualization\n",
    "\n",
    "Code originated from: https://stackoverflow.com/questions/45715018/scikit-learn-how-to-plot-probabilities"
   ]
  },
  {
   "cell_type": "code",
   "execution_count": 34,
   "metadata": {},
   "outputs": [
    {
     "data": {
      "image/png": "[encoded data removed]",
      "text/plain": [
       "<Figure size 864x432 with 1 Axes>"
      ]
     },
     "metadata": {
      "needs_background": "light"
     },
     "output_type": "display_data"
    }
   ],
   "source": [
    "# A bonus, for making it to the end of the notebook...\n",
    "train_target = pd.DataFrame(y_train) # Create a df with our actual train y values\n",
    "# Add the predicted probabilities for 1 as a column\n",
    "train_target['Predicted Probability'] = clf_balanced.predict_proba(X_train)[:,1]\n",
    "\n",
    "# Plot the two\n",
    "plt.figure(figsize=(12,6))\n",
    "plt.hist(train_target[train_target['Survived']==0]['Predicted Probability'], \n",
    "         bins=50, label='Negatives')\n",
    "plt.hist(train_target[train_target['Survived']==1]['Predicted Probability'], \n",
    "         bins=50, label='Positives', alpha=0.7, color='r')\n",
    "plt.xlabel('Probability of being Positive Class')\n",
    "plt.ylabel('Number of records in each bin')\n",
    "plt.legend()\n",
    "plt.tick_params(axis='both')\n",
    "plt.show() "
   ]
  },
  {
   "cell_type": "markdown",
   "metadata": {},
   "source": [
    "## Level Up - What to do with too many options in categorical columns?\n",
    "\n",
    "Data we can use for this: https://www.kaggle.com/c/cat-in-the-dat-ii (this file is in this github repo, in the data folder)\n",
    "\n",
    "New library you can install with more encoding techniques: https://contrib.scikit-learn.org/category_encoders/\n",
    "\n",
    "- (these work within SKLearn pipelines, since they're written in the SKLearn style!)\n"
   ]
  },
  {
   "cell_type": "code",
   "execution_count": null,
   "metadata": {},
   "outputs": [],
   "source": []
  },
  {
   "cell_type": "markdown",
   "metadata": {},
   "source": [
    "## Resources\n",
    "\n",
    "Check out Aurélien Geron's notebook of an [end-to-end ml project](https://github.com/ageron/handson-ml2/blob/master/02_end_to_end_machine_learning_project.ipynb) on his GitHub repo based around his book [_Hands-On Machine Learning with Scikit-Learn and TensorFlow: Concepts, Tools, and Techniques to Build Intelligent Systems (2nd ed)_](https://www.oreilly.com/library/view/hands-on-machine-learning/9781491962282/)"
   ]
  }
 ],
 "metadata": {
  "kernelspec": {
   "display_name": "Python (learn-env)",
   "language": "python",
   "name": "learn-env"
  },
  "language_info": {
   "codemirror_mode": {
    "name": "ipython",
    "version": 3
   },
   "file_extension": ".py",
   "mimetype": "text/x-python",
   "name": "python",
   "nbconvert_exporter": "python",
   "pygments_lexer": "ipython3",
   "version": "3.8.5"
  }
 },
 "nbformat": 4,
 "nbformat_minor": 4
}
